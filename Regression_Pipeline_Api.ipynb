{
  "nbformat": 4,
  "nbformat_minor": 0,
  "metadata": {
    "colab": {
      "provenance": []
    },
    "kernelspec": {
      "name": "python3",
      "display_name": "Python 3"
    },
    "language_info": {
      "name": "python"
    }
  },
  "cells": [
    {
      "cell_type": "markdown",
      "source": [
        "upload dataset"
      ],
      "metadata": {
        "id": "5jpVyy2vAYod"
      }
    },
    {
      "cell_type": "code",
      "execution_count": null,
      "metadata": {
        "colab": {
          "base_uri": "https://localhost:8080/",
          "height": 74
        },
        "id": "1DOkb214HD8V",
        "outputId": "bd147609-4a33-4103-f51f-91577ab39d8f"
      },
      "outputs": [
        {
          "output_type": "display_data",
          "data": {
            "text/plain": [
              "<IPython.core.display.HTML object>"
            ],
            "text/html": [
              "\n",
              "     <input type=\"file\" id=\"files-e3fbb0e7-bab2-4d4a-bc9c-b9c20cece236\" name=\"files[]\" multiple disabled\n",
              "        style=\"border:none\" />\n",
              "     <output id=\"result-e3fbb0e7-bab2-4d4a-bc9c-b9c20cece236\">\n",
              "      Upload widget is only available when the cell has been executed in the\n",
              "      current browser session. Please rerun this cell to enable.\n",
              "      </output>\n",
              "      <script>// Copyright 2017 Google LLC\n",
              "//\n",
              "// Licensed under the Apache License, Version 2.0 (the \"License\");\n",
              "// you may not use this file except in compliance with the License.\n",
              "// You may obtain a copy of the License at\n",
              "//\n",
              "//      http://www.apache.org/licenses/LICENSE-2.0\n",
              "//\n",
              "// Unless required by applicable law or agreed to in writing, software\n",
              "// distributed under the License is distributed on an \"AS IS\" BASIS,\n",
              "// WITHOUT WARRANTIES OR CONDITIONS OF ANY KIND, either express or implied.\n",
              "// See the License for the specific language governing permissions and\n",
              "// limitations under the License.\n",
              "\n",
              "/**\n",
              " * @fileoverview Helpers for google.colab Python module.\n",
              " */\n",
              "(function(scope) {\n",
              "function span(text, styleAttributes = {}) {\n",
              "  const element = document.createElement('span');\n",
              "  element.textContent = text;\n",
              "  for (const key of Object.keys(styleAttributes)) {\n",
              "    element.style[key] = styleAttributes[key];\n",
              "  }\n",
              "  return element;\n",
              "}\n",
              "\n",
              "// Max number of bytes which will be uploaded at a time.\n",
              "const MAX_PAYLOAD_SIZE = 100 * 1024;\n",
              "\n",
              "function _uploadFiles(inputId, outputId) {\n",
              "  const steps = uploadFilesStep(inputId, outputId);\n",
              "  const outputElement = document.getElementById(outputId);\n",
              "  // Cache steps on the outputElement to make it available for the next call\n",
              "  // to uploadFilesContinue from Python.\n",
              "  outputElement.steps = steps;\n",
              "\n",
              "  return _uploadFilesContinue(outputId);\n",
              "}\n",
              "\n",
              "// This is roughly an async generator (not supported in the browser yet),\n",
              "// where there are multiple asynchronous steps and the Python side is going\n",
              "// to poll for completion of each step.\n",
              "// This uses a Promise to block the python side on completion of each step,\n",
              "// then passes the result of the previous step as the input to the next step.\n",
              "function _uploadFilesContinue(outputId) {\n",
              "  const outputElement = document.getElementById(outputId);\n",
              "  const steps = outputElement.steps;\n",
              "\n",
              "  const next = steps.next(outputElement.lastPromiseValue);\n",
              "  return Promise.resolve(next.value.promise).then((value) => {\n",
              "    // Cache the last promise value to make it available to the next\n",
              "    // step of the generator.\n",
              "    outputElement.lastPromiseValue = value;\n",
              "    return next.value.response;\n",
              "  });\n",
              "}\n",
              "\n",
              "/**\n",
              " * Generator function which is called between each async step of the upload\n",
              " * process.\n",
              " * @param {string} inputId Element ID of the input file picker element.\n",
              " * @param {string} outputId Element ID of the output display.\n",
              " * @return {!Iterable<!Object>} Iterable of next steps.\n",
              " */\n",
              "function* uploadFilesStep(inputId, outputId) {\n",
              "  const inputElement = document.getElementById(inputId);\n",
              "  inputElement.disabled = false;\n",
              "\n",
              "  const outputElement = document.getElementById(outputId);\n",
              "  outputElement.innerHTML = '';\n",
              "\n",
              "  const pickedPromise = new Promise((resolve) => {\n",
              "    inputElement.addEventListener('change', (e) => {\n",
              "      resolve(e.target.files);\n",
              "    });\n",
              "  });\n",
              "\n",
              "  const cancel = document.createElement('button');\n",
              "  inputElement.parentElement.appendChild(cancel);\n",
              "  cancel.textContent = 'Cancel upload';\n",
              "  const cancelPromise = new Promise((resolve) => {\n",
              "    cancel.onclick = () => {\n",
              "      resolve(null);\n",
              "    };\n",
              "  });\n",
              "\n",
              "  // Wait for the user to pick the files.\n",
              "  const files = yield {\n",
              "    promise: Promise.race([pickedPromise, cancelPromise]),\n",
              "    response: {\n",
              "      action: 'starting',\n",
              "    }\n",
              "  };\n",
              "\n",
              "  cancel.remove();\n",
              "\n",
              "  // Disable the input element since further picks are not allowed.\n",
              "  inputElement.disabled = true;\n",
              "\n",
              "  if (!files) {\n",
              "    return {\n",
              "      response: {\n",
              "        action: 'complete',\n",
              "      }\n",
              "    };\n",
              "  }\n",
              "\n",
              "  for (const file of files) {\n",
              "    const li = document.createElement('li');\n",
              "    li.append(span(file.name, {fontWeight: 'bold'}));\n",
              "    li.append(span(\n",
              "        `(${file.type || 'n/a'}) - ${file.size} bytes, ` +\n",
              "        `last modified: ${\n",
              "            file.lastModifiedDate ? file.lastModifiedDate.toLocaleDateString() :\n",
              "                                    'n/a'} - `));\n",
              "    const percent = span('0% done');\n",
              "    li.appendChild(percent);\n",
              "\n",
              "    outputElement.appendChild(li);\n",
              "\n",
              "    const fileDataPromise = new Promise((resolve) => {\n",
              "      const reader = new FileReader();\n",
              "      reader.onload = (e) => {\n",
              "        resolve(e.target.result);\n",
              "      };\n",
              "      reader.readAsArrayBuffer(file);\n",
              "    });\n",
              "    // Wait for the data to be ready.\n",
              "    let fileData = yield {\n",
              "      promise: fileDataPromise,\n",
              "      response: {\n",
              "        action: 'continue',\n",
              "      }\n",
              "    };\n",
              "\n",
              "    // Use a chunked sending to avoid message size limits. See b/62115660.\n",
              "    let position = 0;\n",
              "    do {\n",
              "      const length = Math.min(fileData.byteLength - position, MAX_PAYLOAD_SIZE);\n",
              "      const chunk = new Uint8Array(fileData, position, length);\n",
              "      position += length;\n",
              "\n",
              "      const base64 = btoa(String.fromCharCode.apply(null, chunk));\n",
              "      yield {\n",
              "        response: {\n",
              "          action: 'append',\n",
              "          file: file.name,\n",
              "          data: base64,\n",
              "        },\n",
              "      };\n",
              "\n",
              "      let percentDone = fileData.byteLength === 0 ?\n",
              "          100 :\n",
              "          Math.round((position / fileData.byteLength) * 100);\n",
              "      percent.textContent = `${percentDone}% done`;\n",
              "\n",
              "    } while (position < fileData.byteLength);\n",
              "  }\n",
              "\n",
              "  // All done.\n",
              "  yield {\n",
              "    response: {\n",
              "      action: 'complete',\n",
              "    }\n",
              "  };\n",
              "}\n",
              "\n",
              "scope.google = scope.google || {};\n",
              "scope.google.colab = scope.google.colab || {};\n",
              "scope.google.colab._files = {\n",
              "  _uploadFiles,\n",
              "  _uploadFilesContinue,\n",
              "};\n",
              "})(self);\n",
              "</script> "
            ]
          },
          "metadata": {}
        },
        {
          "output_type": "stream",
          "name": "stdout",
          "text": [
            "Saving housing.csv to housing.csv\n"
          ]
        }
      ],
      "source": [
        "from google.colab import files\n",
        "uploaded = files.upload() #housing.csv"
      ]
    },
    {
      "cell_type": "markdown",
      "source": [
        "install dependencies"
      ],
      "metadata": {
        "id": "KGgCQQM2JBKr"
      }
    },
    {
      "cell_type": "code",
      "source": [
        "!pip install scikit-learn xgboost joblib pandas mlflow"
      ],
      "metadata": {
        "colab": {
          "base_uri": "https://localhost:8080/"
        },
        "collapsed": true,
        "id": "uxTIKnFQJGua",
        "outputId": "94c5ed7a-d0b9-4375-b919-5a69237744f4"
      },
      "execution_count": null,
      "outputs": [
        {
          "output_type": "stream",
          "name": "stdout",
          "text": [
            "Requirement already satisfied: scikit-learn in /usr/local/lib/python3.11/dist-packages (1.6.1)\n",
            "Requirement already satisfied: xgboost in /usr/local/lib/python3.11/dist-packages (2.1.4)\n",
            "Requirement already satisfied: joblib in /usr/local/lib/python3.11/dist-packages (1.5.1)\n",
            "Requirement already satisfied: pandas in /usr/local/lib/python3.11/dist-packages (2.2.2)\n",
            "Collecting mlflow\n",
            "  Downloading mlflow-3.1.0-py3-none-any.whl.metadata (29 kB)\n",
            "Requirement already satisfied: numpy>=1.19.5 in /usr/local/lib/python3.11/dist-packages (from scikit-learn) (2.0.2)\n",
            "Requirement already satisfied: scipy>=1.6.0 in /usr/local/lib/python3.11/dist-packages (from scikit-learn) (1.15.3)\n",
            "Requirement already satisfied: threadpoolctl>=3.1.0 in /usr/local/lib/python3.11/dist-packages (from scikit-learn) (3.6.0)\n",
            "Requirement already satisfied: nvidia-nccl-cu12 in /usr/local/lib/python3.11/dist-packages (from xgboost) (2.21.5)\n",
            "Requirement already satisfied: python-dateutil>=2.8.2 in /usr/local/lib/python3.11/dist-packages (from pandas) (2.9.0.post0)\n",
            "Requirement already satisfied: pytz>=2020.1 in /usr/local/lib/python3.11/dist-packages (from pandas) (2025.2)\n",
            "Requirement already satisfied: tzdata>=2022.7 in /usr/local/lib/python3.11/dist-packages (from pandas) (2025.2)\n",
            "Collecting mlflow-skinny==3.1.0 (from mlflow)\n",
            "  Downloading mlflow_skinny-3.1.0-py3-none-any.whl.metadata (30 kB)\n",
            "Requirement already satisfied: Flask<4 in /usr/local/lib/python3.11/dist-packages (from mlflow) (3.1.1)\n",
            "Collecting alembic!=1.10.0,<2 (from mlflow)\n",
            "  Downloading alembic-1.16.1-py3-none-any.whl.metadata (7.3 kB)\n",
            "Collecting docker<8,>=4.0.0 (from mlflow)\n",
            "  Downloading docker-7.1.0-py3-none-any.whl.metadata (3.8 kB)\n",
            "Collecting graphene<4 (from mlflow)\n",
            "  Downloading graphene-3.4.3-py2.py3-none-any.whl.metadata (6.9 kB)\n",
            "Collecting gunicorn<24 (from mlflow)\n",
            "  Downloading gunicorn-23.0.0-py3-none-any.whl.metadata (4.4 kB)\n",
            "Requirement already satisfied: matplotlib<4 in /usr/local/lib/python3.11/dist-packages (from mlflow) (3.10.0)\n",
            "Requirement already satisfied: pyarrow<21,>=4.0.0 in /usr/local/lib/python3.11/dist-packages (from mlflow) (18.1.0)\n",
            "Requirement already satisfied: sqlalchemy<3,>=1.4.0 in /usr/local/lib/python3.11/dist-packages (from mlflow) (2.0.41)\n",
            "Requirement already satisfied: cachetools<7,>=5.0.0 in /usr/local/lib/python3.11/dist-packages (from mlflow-skinny==3.1.0->mlflow) (5.5.2)\n",
            "Requirement already satisfied: click<9,>=7.0 in /usr/local/lib/python3.11/dist-packages (from mlflow-skinny==3.1.0->mlflow) (8.2.1)\n",
            "Requirement already satisfied: cloudpickle<4 in /usr/local/lib/python3.11/dist-packages (from mlflow-skinny==3.1.0->mlflow) (3.1.1)\n",
            "Collecting databricks-sdk<1,>=0.20.0 (from mlflow-skinny==3.1.0->mlflow)\n",
            "  Downloading databricks_sdk-0.56.0-py3-none-any.whl.metadata (39 kB)\n",
            "Requirement already satisfied: fastapi<1 in /usr/local/lib/python3.11/dist-packages (from mlflow-skinny==3.1.0->mlflow) (0.115.12)\n",
            "Requirement already satisfied: gitpython<4,>=3.1.9 in /usr/local/lib/python3.11/dist-packages (from mlflow-skinny==3.1.0->mlflow) (3.1.44)\n",
            "Requirement already satisfied: importlib_metadata!=4.7.0,<9,>=3.7.0 in /usr/local/lib/python3.11/dist-packages (from mlflow-skinny==3.1.0->mlflow) (8.7.0)\n",
            "Collecting opentelemetry-api<3,>=1.9.0 (from mlflow-skinny==3.1.0->mlflow)\n",
            "  Downloading opentelemetry_api-1.34.1-py3-none-any.whl.metadata (1.5 kB)\n",
            "Collecting opentelemetry-sdk<3,>=1.9.0 (from mlflow-skinny==3.1.0->mlflow)\n",
            "  Downloading opentelemetry_sdk-1.34.1-py3-none-any.whl.metadata (1.6 kB)\n",
            "Requirement already satisfied: packaging<26 in /usr/local/lib/python3.11/dist-packages (from mlflow-skinny==3.1.0->mlflow) (24.2)\n",
            "Requirement already satisfied: protobuf<7,>=3.12.0 in /usr/local/lib/python3.11/dist-packages (from mlflow-skinny==3.1.0->mlflow) (5.29.5)\n",
            "Requirement already satisfied: pydantic<3,>=1.10.8 in /usr/local/lib/python3.11/dist-packages (from mlflow-skinny==3.1.0->mlflow) (2.11.5)\n",
            "Requirement already satisfied: pyyaml<7,>=5.1 in /usr/local/lib/python3.11/dist-packages (from mlflow-skinny==3.1.0->mlflow) (6.0.2)\n",
            "Requirement already satisfied: requests<3,>=2.17.3 in /usr/local/lib/python3.11/dist-packages (from mlflow-skinny==3.1.0->mlflow) (2.32.3)\n",
            "Requirement already satisfied: sqlparse<1,>=0.4.0 in /usr/local/lib/python3.11/dist-packages (from mlflow-skinny==3.1.0->mlflow) (0.5.3)\n",
            "Requirement already satisfied: typing-extensions<5,>=4.0.0 in /usr/local/lib/python3.11/dist-packages (from mlflow-skinny==3.1.0->mlflow) (4.14.0)\n",
            "Requirement already satisfied: uvicorn<1 in /usr/local/lib/python3.11/dist-packages (from mlflow-skinny==3.1.0->mlflow) (0.34.3)\n",
            "Requirement already satisfied: Mako in /usr/lib/python3/dist-packages (from alembic!=1.10.0,<2->mlflow) (1.1.3)\n",
            "Requirement already satisfied: urllib3>=1.26.0 in /usr/local/lib/python3.11/dist-packages (from docker<8,>=4.0.0->mlflow) (2.4.0)\n",
            "Requirement already satisfied: blinker>=1.9.0 in /usr/local/lib/python3.11/dist-packages (from Flask<4->mlflow) (1.9.0)\n",
            "Requirement already satisfied: itsdangerous>=2.2.0 in /usr/local/lib/python3.11/dist-packages (from Flask<4->mlflow) (2.2.0)\n",
            "Requirement already satisfied: jinja2>=3.1.2 in /usr/local/lib/python3.11/dist-packages (from Flask<4->mlflow) (3.1.6)\n",
            "Requirement already satisfied: markupsafe>=2.1.1 in /usr/local/lib/python3.11/dist-packages (from Flask<4->mlflow) (3.0.2)\n",
            "Requirement already satisfied: werkzeug>=3.1.0 in /usr/local/lib/python3.11/dist-packages (from Flask<4->mlflow) (3.1.3)\n",
            "Collecting graphql-core<3.3,>=3.1 (from graphene<4->mlflow)\n",
            "  Downloading graphql_core-3.2.6-py3-none-any.whl.metadata (11 kB)\n",
            "Collecting graphql-relay<3.3,>=3.1 (from graphene<4->mlflow)\n",
            "  Downloading graphql_relay-3.2.0-py3-none-any.whl.metadata (12 kB)\n",
            "Requirement already satisfied: contourpy>=1.0.1 in /usr/local/lib/python3.11/dist-packages (from matplotlib<4->mlflow) (1.3.2)\n",
            "Requirement already satisfied: cycler>=0.10 in /usr/local/lib/python3.11/dist-packages (from matplotlib<4->mlflow) (0.12.1)\n",
            "Requirement already satisfied: fonttools>=4.22.0 in /usr/local/lib/python3.11/dist-packages (from matplotlib<4->mlflow) (4.58.1)\n",
            "Requirement already satisfied: kiwisolver>=1.3.1 in /usr/local/lib/python3.11/dist-packages (from matplotlib<4->mlflow) (1.4.8)\n",
            "Requirement already satisfied: pillow>=8 in /usr/local/lib/python3.11/dist-packages (from matplotlib<4->mlflow) (11.2.1)\n",
            "Requirement already satisfied: pyparsing>=2.3.1 in /usr/local/lib/python3.11/dist-packages (from matplotlib<4->mlflow) (3.2.3)\n",
            "Requirement already satisfied: six>=1.5 in /usr/local/lib/python3.11/dist-packages (from python-dateutil>=2.8.2->pandas) (1.17.0)\n",
            "Requirement already satisfied: greenlet>=1 in /usr/local/lib/python3.11/dist-packages (from sqlalchemy<3,>=1.4.0->mlflow) (3.2.2)\n",
            "Requirement already satisfied: google-auth~=2.0 in /usr/local/lib/python3.11/dist-packages (from databricks-sdk<1,>=0.20.0->mlflow-skinny==3.1.0->mlflow) (2.38.0)\n",
            "Requirement already satisfied: starlette<0.47.0,>=0.40.0 in /usr/local/lib/python3.11/dist-packages (from fastapi<1->mlflow-skinny==3.1.0->mlflow) (0.46.2)\n",
            "Requirement already satisfied: gitdb<5,>=4.0.1 in /usr/local/lib/python3.11/dist-packages (from gitpython<4,>=3.1.9->mlflow-skinny==3.1.0->mlflow) (4.0.12)\n",
            "Requirement already satisfied: zipp>=3.20 in /usr/local/lib/python3.11/dist-packages (from importlib_metadata!=4.7.0,<9,>=3.7.0->mlflow-skinny==3.1.0->mlflow) (3.22.0)\n",
            "Collecting opentelemetry-semantic-conventions==0.55b1 (from opentelemetry-sdk<3,>=1.9.0->mlflow-skinny==3.1.0->mlflow)\n",
            "  Downloading opentelemetry_semantic_conventions-0.55b1-py3-none-any.whl.metadata (2.5 kB)\n",
            "Requirement already satisfied: annotated-types>=0.6.0 in /usr/local/lib/python3.11/dist-packages (from pydantic<3,>=1.10.8->mlflow-skinny==3.1.0->mlflow) (0.7.0)\n",
            "Requirement already satisfied: pydantic-core==2.33.2 in /usr/local/lib/python3.11/dist-packages (from pydantic<3,>=1.10.8->mlflow-skinny==3.1.0->mlflow) (2.33.2)\n",
            "Requirement already satisfied: typing-inspection>=0.4.0 in /usr/local/lib/python3.11/dist-packages (from pydantic<3,>=1.10.8->mlflow-skinny==3.1.0->mlflow) (0.4.1)\n",
            "Requirement already satisfied: charset-normalizer<4,>=2 in /usr/local/lib/python3.11/dist-packages (from requests<3,>=2.17.3->mlflow-skinny==3.1.0->mlflow) (3.4.2)\n",
            "Requirement already satisfied: idna<4,>=2.5 in /usr/local/lib/python3.11/dist-packages (from requests<3,>=2.17.3->mlflow-skinny==3.1.0->mlflow) (3.10)\n",
            "Requirement already satisfied: certifi>=2017.4.17 in /usr/local/lib/python3.11/dist-packages (from requests<3,>=2.17.3->mlflow-skinny==3.1.0->mlflow) (2025.4.26)\n",
            "Requirement already satisfied: h11>=0.8 in /usr/local/lib/python3.11/dist-packages (from uvicorn<1->mlflow-skinny==3.1.0->mlflow) (0.16.0)\n",
            "Requirement already satisfied: smmap<6,>=3.0.1 in /usr/local/lib/python3.11/dist-packages (from gitdb<5,>=4.0.1->gitpython<4,>=3.1.9->mlflow-skinny==3.1.0->mlflow) (5.0.2)\n",
            "Requirement already satisfied: pyasn1-modules>=0.2.1 in /usr/local/lib/python3.11/dist-packages (from google-auth~=2.0->databricks-sdk<1,>=0.20.0->mlflow-skinny==3.1.0->mlflow) (0.4.2)\n",
            "Requirement already satisfied: rsa<5,>=3.1.4 in /usr/local/lib/python3.11/dist-packages (from google-auth~=2.0->databricks-sdk<1,>=0.20.0->mlflow-skinny==3.1.0->mlflow) (4.9.1)\n",
            "Requirement already satisfied: anyio<5,>=3.6.2 in /usr/local/lib/python3.11/dist-packages (from starlette<0.47.0,>=0.40.0->fastapi<1->mlflow-skinny==3.1.0->mlflow) (4.9.0)\n",
            "Requirement already satisfied: sniffio>=1.1 in /usr/local/lib/python3.11/dist-packages (from anyio<5,>=3.6.2->starlette<0.47.0,>=0.40.0->fastapi<1->mlflow-skinny==3.1.0->mlflow) (1.3.1)\n",
            "Requirement already satisfied: pyasn1<0.7.0,>=0.6.1 in /usr/local/lib/python3.11/dist-packages (from pyasn1-modules>=0.2.1->google-auth~=2.0->databricks-sdk<1,>=0.20.0->mlflow-skinny==3.1.0->mlflow) (0.6.1)\n",
            "Downloading mlflow-3.1.0-py3-none-any.whl (24.7 MB)\n",
            "\u001b[2K   \u001b[90m━━━━━━━━━━━━━━━━━━━━━━━━━━━━━━━━━━━━━━━━\u001b[0m \u001b[32m24.7/24.7 MB\u001b[0m \u001b[31m44.2 MB/s\u001b[0m eta \u001b[36m0:00:00\u001b[0m\n",
            "\u001b[?25hDownloading mlflow_skinny-3.1.0-py3-none-any.whl (1.9 MB)\n",
            "\u001b[2K   \u001b[90m━━━━━━━━━━━━━━━━━━━━━━━━━━━━━━━━━━━━━━━━\u001b[0m \u001b[32m1.9/1.9 MB\u001b[0m \u001b[31m48.9 MB/s\u001b[0m eta \u001b[36m0:00:00\u001b[0m\n",
            "\u001b[?25hDownloading alembic-1.16.1-py3-none-any.whl (242 kB)\n",
            "\u001b[2K   \u001b[90m━━━━━━━━━━━━━━━━━━━━━━━━━━━━━━━━━━━━━━━━\u001b[0m \u001b[32m242.5/242.5 kB\u001b[0m \u001b[31m16.3 MB/s\u001b[0m eta \u001b[36m0:00:00\u001b[0m\n",
            "\u001b[?25hDownloading docker-7.1.0-py3-none-any.whl (147 kB)\n",
            "\u001b[2K   \u001b[90m━━━━━━━━━━━━━━━━━━━━━━━━━━━━━━━━━━━━━━━━\u001b[0m \u001b[32m147.8/147.8 kB\u001b[0m \u001b[31m9.8 MB/s\u001b[0m eta \u001b[36m0:00:00\u001b[0m\n",
            "\u001b[?25hDownloading graphene-3.4.3-py2.py3-none-any.whl (114 kB)\n",
            "\u001b[2K   \u001b[90m━━━━━━━━━━━━━━━━━━━━━━━━━━━━━━━━━━━━━━━━\u001b[0m \u001b[32m114.9/114.9 kB\u001b[0m \u001b[31m7.7 MB/s\u001b[0m eta \u001b[36m0:00:00\u001b[0m\n",
            "\u001b[?25hDownloading gunicorn-23.0.0-py3-none-any.whl (85 kB)\n",
            "\u001b[2K   \u001b[90m━━━━━━━━━━━━━━━━━━━━━━━━━━━━━━━━━━━━━━━━\u001b[0m \u001b[32m85.0/85.0 kB\u001b[0m \u001b[31m5.3 MB/s\u001b[0m eta \u001b[36m0:00:00\u001b[0m\n",
            "\u001b[?25hDownloading databricks_sdk-0.56.0-py3-none-any.whl (733 kB)\n",
            "\u001b[2K   \u001b[90m━━━━━━━━━━━━━━━━━━━━━━━━━━━━━━━━━━━━━━━━\u001b[0m \u001b[32m733.7/733.7 kB\u001b[0m \u001b[31m33.6 MB/s\u001b[0m eta \u001b[36m0:00:00\u001b[0m\n",
            "\u001b[?25hDownloading graphql_core-3.2.6-py3-none-any.whl (203 kB)\n",
            "\u001b[2K   \u001b[90m━━━━━━━━━━━━━━━━━━━━━━━━━━━━━━━━━━━━━━━━\u001b[0m \u001b[32m203.4/203.4 kB\u001b[0m \u001b[31m15.0 MB/s\u001b[0m eta \u001b[36m0:00:00\u001b[0m\n",
            "\u001b[?25hDownloading graphql_relay-3.2.0-py3-none-any.whl (16 kB)\n",
            "Downloading opentelemetry_api-1.34.1-py3-none-any.whl (65 kB)\n",
            "\u001b[2K   \u001b[90m━━━━━━━━━━━━━━━━━━━━━━━━━━━━━━━━━━━━━━━━\u001b[0m \u001b[32m65.8/65.8 kB\u001b[0m \u001b[31m4.2 MB/s\u001b[0m eta \u001b[36m0:00:00\u001b[0m\n",
            "\u001b[?25hDownloading opentelemetry_sdk-1.34.1-py3-none-any.whl (118 kB)\n",
            "\u001b[2K   \u001b[90m━━━━━━━━━━━━━━━━━━━━━━━━━━━━━━━━━━━━━━━━\u001b[0m \u001b[32m118.5/118.5 kB\u001b[0m \u001b[31m9.0 MB/s\u001b[0m eta \u001b[36m0:00:00\u001b[0m\n",
            "\u001b[?25hDownloading opentelemetry_semantic_conventions-0.55b1-py3-none-any.whl (196 kB)\n",
            "\u001b[2K   \u001b[90m━━━━━━━━━━━━━━━━━━━━━━━━━━━━━━━━━━━━━━━━\u001b[0m \u001b[32m196.2/196.2 kB\u001b[0m \u001b[31m12.3 MB/s\u001b[0m eta \u001b[36m0:00:00\u001b[0m\n",
            "\u001b[?25hInstalling collected packages: gunicorn, graphql-core, opentelemetry-api, graphql-relay, docker, alembic, opentelemetry-semantic-conventions, graphene, databricks-sdk, opentelemetry-sdk, mlflow-skinny, mlflow\n",
            "Successfully installed alembic-1.16.1 databricks-sdk-0.56.0 docker-7.1.0 graphene-3.4.3 graphql-core-3.2.6 graphql-relay-3.2.0 gunicorn-23.0.0 mlflow-3.1.0 mlflow-skinny-3.1.0 opentelemetry-api-1.34.1 opentelemetry-sdk-1.34.1 opentelemetry-semantic-conventions-0.55b1\n"
          ]
        }
      ]
    },
    {
      "cell_type": "markdown",
      "source": [
        "data loading, preprocessing, training"
      ],
      "metadata": {
        "id": "Yew50KvbSquV"
      }
    },
    {
      "cell_type": "code",
      "source": [
        "import pandas as pd\n",
        "import joblib\n",
        "import numpy as np\n",
        "import mlflow\n",
        "import mlflow.sklearn\n",
        "from mlflow.models.signature import infer_signature\n",
        "import hashlib\n",
        "import shutil\n",
        "from sklearn.pipeline import Pipeline\n",
        "from sklearn.compose import ColumnTransformer\n",
        "from sklearn.impute import SimpleImputer\n",
        "from sklearn.preprocessing import StandardScaler, OneHotEncoder\n",
        "from sklearn.decomposition import PCA\n",
        "from sklearn.ensemble import RandomForestRegressor\n",
        "from xgboost import XGBRegressor\n",
        "from sklearn.model_selection import train_test_split, GridSearchCV\n",
        "from sklearn.metrics import mean_squared_error, mean_absolute_error, r2_score\n"
      ],
      "metadata": {
        "id": "_1CXsFMwSvIU"
      },
      "execution_count": null,
      "outputs": []
    },
    {
      "cell_type": "markdown",
      "source": [
        "load data"
      ],
      "metadata": {
        "id": "CRcz3KMkULYt"
      }
    },
    {
      "cell_type": "code",
      "source": [
        "df = pd.read_csv('housing.csv')\n",
        "print(f\"dataset shape: {df.shape}\")\n",
        "print(\"feature types:\\n\", df.dtypes)\n",
        "\n",
        "X = df.drop(columns=['median_house_value'])\n",
        "y = df['median_house_value']\n",
        "\n",
        "# snapshot and log\n",
        "snapshot_path = 'housing_snapshot.csv'\n",
        "df.to_csv(snapshot_path, index=False)\n",
        "mlflow.log_artifact(snapshot_path)\n",
        "\n",
        "# generate data hash for versioning\n",
        "def get_data_hash(file_path):\n",
        "  with open(file_path, 'rb') as f:\n",
        "    return hashlib.sha256(f.read()).hexdigest()\n",
        "\n",
        "data_hash = get_data_hash(snapshot_path)\n",
        "mlflow.set_tag('data_hash', data_hash)\n"
      ],
      "metadata": {
        "colab": {
          "base_uri": "https://localhost:8080/"
        },
        "id": "eCQTZg5oUMam",
        "outputId": "282a05d2-7932-46d7-f159-92bd995c193b"
      },
      "execution_count": null,
      "outputs": [
        {
          "output_type": "stream",
          "name": "stdout",
          "text": [
            "dataset shape: (20640, 10)\n",
            "feature types:\n",
            " longitude             float64\n",
            "latitude              float64\n",
            "housing_median_age    float64\n",
            "total_rooms           float64\n",
            "total_bedrooms        float64\n",
            "population            float64\n",
            "households            float64\n",
            "median_income         float64\n",
            "median_house_value    float64\n",
            "ocean_proximity        object\n",
            "dtype: object\n"
          ]
        }
      ]
    },
    {
      "cell_type": "code",
      "source": [
        "#split columns for cate and nume\n",
        "numeric_features = X.select_dtypes(include=['float64']).columns.tolist()\n",
        "categorical_features = X.select_dtypes(include=['object']).columns.tolist()\n",
        "\n",
        "#preprocessing pipeline\n",
        "numeric_pipeline = Pipeline([\n",
        "    ('imputer', SimpleImputer(strategy='median')), # handle missing data\n",
        "    ('scaler', StandardScaler()), # normalization\n",
        "    ('pca', PCA(n_components=5)) # component reduction\n",
        "])\n",
        "\n",
        "categorical_pipeline = Pipeline([\n",
        "    ('imputer', SimpleImputer(strategy='most_frequent')),\n",
        "    (\"onehot\", OneHotEncoder(handle_unknown=\"ignore\")) # convert cate to numer\n",
        "])\n",
        "\n",
        "pipeline = ColumnTransformer([\n",
        "    ('num', numeric_pipeline, numeric_features),\n",
        "    ('cat', categorical_pipeline, categorical_features)\n",
        "])\n",
        "\n",
        "# train-test split\n",
        "X_train, X_test, y_train, y_test = train_test_split(X, y, test_size=0.2, random_state=42)\n",
        "\n",
        "# fit and transform\n",
        "X_train_proc = pipeline.fit_transform(X_train)\n",
        "X_test_proc = pipeline.transform(X_test)\n"
      ],
      "metadata": {
        "id": "UPMATwy3_83I"
      },
      "execution_count": null,
      "outputs": []
    },
    {
      "cell_type": "code",
      "source": [
        "# define model\n",
        "models = {\n",
        "    \"rf\": {\n",
        "        \"model\": RandomForestRegressor(),\n",
        "        \"params\": {\n",
        "            \"n_estimators\": [50, 100], # number of decision trees\n",
        "            \"max_depth\": [5, 10, None] # depth of trees\n",
        "\n",
        "        }\n",
        "    },\n",
        "    \"xgb\": {\n",
        "        \"model\": XGBRegressor(),\n",
        "        \"params\": {\n",
        "            \"n_estimators\": [50, 100],\n",
        "            \"max_depth\": [3, 6],\n",
        "            \"learning_rate\": [0.1, 0.05]\n",
        "        }\n",
        "    }\n",
        "}\n",
        "\n",
        "best_score = float('inf')\n",
        "best_model = None\n",
        "best_pipeline = pipeline\n"
      ],
      "metadata": {
        "id": "mm2F0i1CABOP"
      },
      "execution_count": null,
      "outputs": []
    },
    {
      "cell_type": "code",
      "source": [
        "mlflow.end_run()"
      ],
      "metadata": {
        "id": "IF0zHMcRW52d"
      },
      "execution_count": null,
      "outputs": []
    },
    {
      "cell_type": "code",
      "source": [
        "for name, config in models.items():\n",
        "  print(f\"Tuning {name}...\")\n",
        "  grid = GridSearchCV(config[\"model\"], config[\"params\"], cv=5, scoring=\"neg_root_mean_squared_error\", n_jobs=-1)\n",
        "  grid.fit(X_train_proc, y_train)\n",
        "  preds = grid.predict(X_test_proc)\n",
        "\n",
        "  mse = mean_squared_error(y_test, preds)\n",
        "  rmse = np.sqrt(mse) #root of mse\n",
        "  mae = mean_absolute_error(y_test, preds)\n",
        "  r2 = r2_score(y_test, preds)\n",
        "\n",
        "  print(f\"{name} RMSE: {rmse: .2f}\")\n",
        "  print(f\"{name} MAE: {mae: .2f}\")\n",
        "  print(f\"{name} R2: {r2: 2f}\")\n",
        "\n",
        "\n",
        "  # MLflow logging\n",
        "  with mlflow.start_run(run_name=name):\n",
        "    mlflow.log_params(grid.best_params_)\n",
        "    mlflow.log_metrics({\"rmse\": rmse, \"mae\": mae, \"r2\": r2})\n",
        "    mlflow.set_tag(\"model_type\", name)\n",
        "    mlflow.set_tag(\"dataset_version\", \"v1.0\")\n",
        "    mlflow.set_tag(\"feature_types\", str(df.dtypes.to_dict()))\n",
        "    mlflow.set_tag(\"data_hash\", data_hash)\n",
        "\n",
        "    # infer signature and input example --> rm warning\n",
        "    input_example = pd.DataFrame(X_test_proc[:1].toarray() if hasattr(X_test_proc, \"toarray\") else X_test_proc[:1])\n",
        "    signature = infer_signature(X_test_proc, preds)\n",
        "\n",
        "    # log model\n",
        "    mlflow.sklearn.log_model(\n",
        "        sk_model=grid.best_estimator_,\n",
        "        artifact_path=\"model\",\n",
        "        signature=signature,\n",
        "        input_example=input_example\n",
        "    )\n",
        "\n",
        "    # save\n",
        "    joblib.dump(best_pipeline, \"pipeline.pkl\")\n",
        "    mlflow.log_artifact(\"pipeline.pkl\")\n",
        "\n",
        "# best model\n",
        "  if rmse < best_score:\n",
        "    best_score = rmse\n",
        "    best_model = grid.best_estimator_\n",
        "    best_model_name = name\n",
        "\n",
        "print(f\"Best model: {best_model_name} with RMSE: {best_score: .2f}\")\n",
        "\n"
      ],
      "metadata": {
        "colab": {
          "base_uri": "https://localhost:8080/"
        },
        "id": "VMCZnMhdWyUr",
        "outputId": "6dd71d52-e395-41ba-dfe0-9ef43d4a210a"
      },
      "execution_count": null,
      "outputs": [
        {
          "output_type": "stream",
          "name": "stdout",
          "text": [
            "Tuning rf...\n"
          ]
        },
        {
          "output_type": "stream",
          "name": "stderr",
          "text": [
            "2025/06/12 19:01:38 WARNING mlflow.models.model: `artifact_path` is deprecated. Please use `name` instead.\n"
          ]
        },
        {
          "output_type": "stream",
          "name": "stdout",
          "text": [
            "rf RMSE:  58439.49\n",
            "rf MAE:  39363.90\n",
            "rf R2:  0.739381\n",
            "Tuning xgb...\n"
          ]
        },
        {
          "output_type": "stream",
          "name": "stderr",
          "text": [
            "2025/06/12 19:01:50 WARNING mlflow.models.model: `artifact_path` is deprecated. Please use `name` instead.\n"
          ]
        },
        {
          "output_type": "stream",
          "name": "stdout",
          "text": [
            "xgb RMSE:  56844.48\n",
            "xgb MAE:  38601.74\n",
            "xgb R2:  0.753413\n",
            "Best model: xgb with RMSE:  56844.48\n"
          ]
        }
      ]
    },
    {
      "cell_type": "code",
      "source": [
        "# save final model and pipeline\n",
        "joblib.dump(best_model, \"model.pkl\")\n",
        "joblib.dump(best_pipeline, \"pipeline.pkl\")"
      ],
      "metadata": {
        "colab": {
          "base_uri": "https://localhost:8080/"
        },
        "id": "g_vgdPrbTfng",
        "outputId": "90422fb1-8528-4b7d-a7cd-1b74c5fde460"
      },
      "execution_count": null,
      "outputs": [
        {
          "output_type": "execute_result",
          "data": {
            "text/plain": [
              "['pipeline.pkl']"
            ]
          },
          "metadata": {},
          "execution_count": 23
        }
      ]
    },
    {
      "cell_type": "markdown",
      "source": [
        "download"
      ],
      "metadata": {
        "id": "_6UdTB-cTxSO"
      }
    },
    {
      "cell_type": "code",
      "source": [
        "from google.colab import files\n",
        "files.download('model.pkl')\n",
        "files.download('pipeline.pkl')"
      ],
      "metadata": {
        "colab": {
          "base_uri": "https://localhost:8080/",
          "height": 17
        },
        "id": "qEc8eg1nT022",
        "outputId": "c099a30f-1ec4-4250-e69a-bfe4057d5962"
      },
      "execution_count": null,
      "outputs": [
        {
          "output_type": "display_data",
          "data": {
            "text/plain": [
              "<IPython.core.display.Javascript object>"
            ],
            "application/javascript": [
              "\n",
              "    async function download(id, filename, size) {\n",
              "      if (!google.colab.kernel.accessAllowed) {\n",
              "        return;\n",
              "      }\n",
              "      const div = document.createElement('div');\n",
              "      const label = document.createElement('label');\n",
              "      label.textContent = `Downloading \"${filename}\": `;\n",
              "      div.appendChild(label);\n",
              "      const progress = document.createElement('progress');\n",
              "      progress.max = size;\n",
              "      div.appendChild(progress);\n",
              "      document.body.appendChild(div);\n",
              "\n",
              "      const buffers = [];\n",
              "      let downloaded = 0;\n",
              "\n",
              "      const channel = await google.colab.kernel.comms.open(id);\n",
              "      // Send a message to notify the kernel that we're ready.\n",
              "      channel.send({})\n",
              "\n",
              "      for await (const message of channel.messages) {\n",
              "        // Send a message to notify the kernel that we're ready.\n",
              "        channel.send({})\n",
              "        if (message.buffers) {\n",
              "          for (const buffer of message.buffers) {\n",
              "            buffers.push(buffer);\n",
              "            downloaded += buffer.byteLength;\n",
              "            progress.value = downloaded;\n",
              "          }\n",
              "        }\n",
              "      }\n",
              "      const blob = new Blob(buffers, {type: 'application/binary'});\n",
              "      const a = document.createElement('a');\n",
              "      a.href = window.URL.createObjectURL(blob);\n",
              "      a.download = filename;\n",
              "      div.appendChild(a);\n",
              "      a.click();\n",
              "      div.remove();\n",
              "    }\n",
              "  "
            ]
          },
          "metadata": {}
        },
        {
          "output_type": "display_data",
          "data": {
            "text/plain": [
              "<IPython.core.display.Javascript object>"
            ],
            "application/javascript": [
              "download(\"download_6a068200-34a8-427a-85fd-22c72e3f4476\", \"model.pkl\", 426816)"
            ]
          },
          "metadata": {}
        },
        {
          "output_type": "display_data",
          "data": {
            "text/plain": [
              "<IPython.core.display.Javascript object>"
            ],
            "application/javascript": [
              "\n",
              "    async function download(id, filename, size) {\n",
              "      if (!google.colab.kernel.accessAllowed) {\n",
              "        return;\n",
              "      }\n",
              "      const div = document.createElement('div');\n",
              "      const label = document.createElement('label');\n",
              "      label.textContent = `Downloading \"${filename}\": `;\n",
              "      div.appendChild(label);\n",
              "      const progress = document.createElement('progress');\n",
              "      progress.max = size;\n",
              "      div.appendChild(progress);\n",
              "      document.body.appendChild(div);\n",
              "\n",
              "      const buffers = [];\n",
              "      let downloaded = 0;\n",
              "\n",
              "      const channel = await google.colab.kernel.comms.open(id);\n",
              "      // Send a message to notify the kernel that we're ready.\n",
              "      channel.send({})\n",
              "\n",
              "      for await (const message of channel.messages) {\n",
              "        // Send a message to notify the kernel that we're ready.\n",
              "        channel.send({})\n",
              "        if (message.buffers) {\n",
              "          for (const buffer of message.buffers) {\n",
              "            buffers.push(buffer);\n",
              "            downloaded += buffer.byteLength;\n",
              "            progress.value = downloaded;\n",
              "          }\n",
              "        }\n",
              "      }\n",
              "      const blob = new Blob(buffers, {type: 'application/binary'});\n",
              "      const a = document.createElement('a');\n",
              "      a.href = window.URL.createObjectURL(blob);\n",
              "      a.download = filename;\n",
              "      div.appendChild(a);\n",
              "      a.click();\n",
              "      div.remove();\n",
              "    }\n",
              "  "
            ]
          },
          "metadata": {}
        },
        {
          "output_type": "display_data",
          "data": {
            "text/plain": [
              "<IPython.core.display.Javascript object>"
            ],
            "application/javascript": [
              "download(\"download_bc0b1e30-b9b2-4b24-aee3-b4c4e9d8a929\", \"pipeline.pkl\", 5242)"
            ]
          },
          "metadata": {}
        }
      ]
    },
    {
      "cell_type": "markdown",
      "source": [
        "save log"
      ],
      "metadata": {
        "id": "fSnD3lunkDGp"
      }
    },
    {
      "cell_type": "code",
      "source": [
        "!zip -r mlruns.zip mlruns\n",
        "from google.colab import files\n",
        "files.download(\"mlruns.zip\")"
      ],
      "metadata": {
        "colab": {
          "base_uri": "https://localhost:8080/",
          "height": 1000
        },
        "id": "acBUid1QkCVo",
        "outputId": "767e738a-5ced-4e3d-ac62-73b0d20a4d70"
      },
      "execution_count": null,
      "outputs": [
        {
          "output_type": "stream",
          "name": "stdout",
          "text": [
            "  adding: mlruns/ (stored 0%)\n",
            "  adding: mlruns/0/ (stored 0%)\n",
            "  adding: mlruns/0/b17bee53d421424d8a4b04546b79c033/ (stored 0%)\n",
            "  adding: mlruns/0/b17bee53d421424d8a4b04546b79c033/artifacts/ (stored 0%)\n",
            "  adding: mlruns/0/b17bee53d421424d8a4b04546b79c033/artifacts/pipeline.pkl (deflated 50%)\n",
            "  adding: mlruns/0/b17bee53d421424d8a4b04546b79c033/params/ (stored 0%)\n",
            "  adding: mlruns/0/b17bee53d421424d8a4b04546b79c033/params/max_depth (stored 0%)\n",
            "  adding: mlruns/0/b17bee53d421424d8a4b04546b79c033/params/n_estimators (stored 0%)\n",
            "  adding: mlruns/0/b17bee53d421424d8a4b04546b79c033/metrics/ (stored 0%)\n",
            "  adding: mlruns/0/b17bee53d421424d8a4b04546b79c033/metrics/r2 (deflated 44%)\n",
            "  adding: mlruns/0/b17bee53d421424d8a4b04546b79c033/metrics/mae (deflated 43%)\n",
            "  adding: mlruns/0/b17bee53d421424d8a4b04546b79c033/metrics/rmse (deflated 43%)\n",
            "  adding: mlruns/0/b17bee53d421424d8a4b04546b79c033/outputs/ (stored 0%)\n",
            "  adding: mlruns/0/b17bee53d421424d8a4b04546b79c033/outputs/m-1ccbfcddc3ee4cf0a275d8da3e1d7921/ (stored 0%)\n",
            "  adding: mlruns/0/b17bee53d421424d8a4b04546b79c033/outputs/m-1ccbfcddc3ee4cf0a275d8da3e1d7921/meta.yaml (deflated 36%)\n",
            "  adding: mlruns/0/b17bee53d421424d8a4b04546b79c033/meta.yaml (deflated 39%)\n",
            "  adding: mlruns/0/b17bee53d421424d8a4b04546b79c033/tags/ (stored 0%)\n",
            "  adding: mlruns/0/b17bee53d421424d8a4b04546b79c033/tags/mlflow.runName (stored 0%)\n",
            "  adding: mlruns/0/b17bee53d421424d8a4b04546b79c033/tags/mlflow.user (stored 0%)\n",
            "  adding: mlruns/0/b17bee53d421424d8a4b04546b79c033/tags/mlflow.source.type (stored 0%)\n",
            "  adding: mlruns/0/b17bee53d421424d8a4b04546b79c033/tags/mlflow.source.name (deflated 5%)\n",
            "  adding: mlruns/0/b17bee53d421424d8a4b04546b79c033/tags/data_hash (deflated 17%)\n",
            "  adding: mlruns/0/b17bee53d421424d8a4b04546b79c033/tags/dataset_version (stored 0%)\n",
            "  adding: mlruns/0/b17bee53d421424d8a4b04546b79c033/tags/feature_types (deflated 62%)\n",
            "  adding: mlruns/0/b17bee53d421424d8a4b04546b79c033/tags/model_type (stored 0%)\n",
            "  adding: mlruns/0/models/ (stored 0%)\n",
            "  adding: mlruns/0/models/m-10b9f1b952f84d168426b0e8d184463d/ (stored 0%)\n",
            "  adding: mlruns/0/models/m-10b9f1b952f84d168426b0e8d184463d/artifacts/ (stored 0%)\n",
            "  adding: mlruns/0/models/m-10b9f1b952f84d168426b0e8d184463d/artifacts/MLmodel (deflated 48%)\n",
            "  adding: mlruns/0/models/m-10b9f1b952f84d168426b0e8d184463d/artifacts/model.pkl (deflated 71%)\n",
            "  adding: mlruns/0/models/m-10b9f1b952f84d168426b0e8d184463d/artifacts/requirements.txt (deflated 20%)\n",
            "  adding: mlruns/0/models/m-10b9f1b952f84d168426b0e8d184463d/artifacts/conda.yaml (deflated 35%)\n",
            "  adding: mlruns/0/models/m-10b9f1b952f84d168426b0e8d184463d/artifacts/python_env.yaml (deflated 16%)\n",
            "  adding: mlruns/0/models/m-10b9f1b952f84d168426b0e8d184463d/params/ (stored 0%)\n",
            "  adding: mlruns/0/models/m-10b9f1b952f84d168426b0e8d184463d/params/learning_rate (stored 0%)\n",
            "  adding: mlruns/0/models/m-10b9f1b952f84d168426b0e8d184463d/params/max_depth (stored 0%)\n",
            "  adding: mlruns/0/models/m-10b9f1b952f84d168426b0e8d184463d/params/n_estimators (stored 0%)\n",
            "  adding: mlruns/0/models/m-10b9f1b952f84d168426b0e8d184463d/metrics/ (stored 0%)\n",
            "  adding: mlruns/0/models/m-10b9f1b952f84d168426b0e8d184463d/metrics/r2 (deflated 12%)\n",
            "  adding: mlruns/0/models/m-10b9f1b952f84d168426b0e8d184463d/metrics/mae (deflated 13%)\n",
            "  adding: mlruns/0/models/m-10b9f1b952f84d168426b0e8d184463d/metrics/rmse (deflated 12%)\n",
            "  adding: mlruns/0/models/m-10b9f1b952f84d168426b0e8d184463d/meta.yaml (deflated 39%)\n",
            "  adding: mlruns/0/models/m-10b9f1b952f84d168426b0e8d184463d/tags/ (stored 0%)\n",
            "  adding: mlruns/0/models/m-10b9f1b952f84d168426b0e8d184463d/tags/mlflow.user (stored 0%)\n",
            "  adding: mlruns/0/models/m-10b9f1b952f84d168426b0e8d184463d/tags/mlflow.source.type (stored 0%)\n",
            "  adding: mlruns/0/models/m-10b9f1b952f84d168426b0e8d184463d/tags/mlflow.source.name (deflated 5%)\n",
            "  adding: mlruns/0/models/m-8a9ef31033064382808abd80226589cf/ (stored 0%)\n",
            "  adding: mlruns/0/models/m-8a9ef31033064382808abd80226589cf/artifacts/ (stored 0%)\n",
            "  adding: mlruns/0/models/m-8a9ef31033064382808abd80226589cf/artifacts/input_example.json (deflated 32%)\n",
            "  adding: mlruns/0/models/m-8a9ef31033064382808abd80226589cf/artifacts/MLmodel (deflated 52%)\n",
            "  adding: mlruns/0/models/m-8a9ef31033064382808abd80226589cf/artifacts/model.pkl (deflated 71%)\n",
            "  adding: mlruns/0/models/m-8a9ef31033064382808abd80226589cf/artifacts/requirements.txt (deflated 20%)\n",
            "  adding: mlruns/0/models/m-8a9ef31033064382808abd80226589cf/artifacts/conda.yaml (deflated 35%)\n",
            "  adding: mlruns/0/models/m-8a9ef31033064382808abd80226589cf/artifacts/python_env.yaml (deflated 16%)\n",
            "  adding: mlruns/0/models/m-8a9ef31033064382808abd80226589cf/artifacts/serving_input_example.json (deflated 51%)\n",
            "  adding: mlruns/0/models/m-8a9ef31033064382808abd80226589cf/params/ (stored 0%)\n",
            "  adding: mlruns/0/models/m-8a9ef31033064382808abd80226589cf/params/learning_rate (stored 0%)\n",
            "  adding: mlruns/0/models/m-8a9ef31033064382808abd80226589cf/params/max_depth (stored 0%)\n",
            "  adding: mlruns/0/models/m-8a9ef31033064382808abd80226589cf/params/n_estimators (stored 0%)\n",
            "  adding: mlruns/0/models/m-8a9ef31033064382808abd80226589cf/metrics/ (stored 0%)\n",
            "  adding: mlruns/0/models/m-8a9ef31033064382808abd80226589cf/metrics/r2 (deflated 15%)\n",
            "  adding: mlruns/0/models/m-8a9ef31033064382808abd80226589cf/metrics/mae (deflated 15%)\n",
            "  adding: mlruns/0/models/m-8a9ef31033064382808abd80226589cf/metrics/rmse (deflated 15%)\n",
            "  adding: mlruns/0/models/m-8a9ef31033064382808abd80226589cf/meta.yaml (deflated 39%)\n",
            "  adding: mlruns/0/models/m-8a9ef31033064382808abd80226589cf/tags/ (stored 0%)\n",
            "  adding: mlruns/0/models/m-8a9ef31033064382808abd80226589cf/tags/mlflow.user (stored 0%)\n",
            "  adding: mlruns/0/models/m-8a9ef31033064382808abd80226589cf/tags/mlflow.source.type (stored 0%)\n",
            "  adding: mlruns/0/models/m-8a9ef31033064382808abd80226589cf/tags/mlflow.source.name (deflated 5%)\n",
            "  adding: mlruns/0/models/m-1ccbfcddc3ee4cf0a275d8da3e1d7921/ (stored 0%)\n",
            "  adding: mlruns/0/models/m-1ccbfcddc3ee4cf0a275d8da3e1d7921/artifacts/ (stored 0%)\n",
            "  adding: mlruns/0/models/m-1ccbfcddc3ee4cf0a275d8da3e1d7921/artifacts/MLmodel (deflated 48%)\n",
            "  adding: mlruns/0/models/m-1ccbfcddc3ee4cf0a275d8da3e1d7921/artifacts/model.pkl (deflated 80%)\n",
            "  adding: mlruns/0/models/m-1ccbfcddc3ee4cf0a275d8da3e1d7921/artifacts/requirements.txt (deflated 20%)\n",
            "  adding: mlruns/0/models/m-1ccbfcddc3ee4cf0a275d8da3e1d7921/artifacts/conda.yaml (deflated 34%)\n",
            "  adding: mlruns/0/models/m-1ccbfcddc3ee4cf0a275d8da3e1d7921/artifacts/python_env.yaml (deflated 16%)\n",
            "  adding: mlruns/0/models/m-1ccbfcddc3ee4cf0a275d8da3e1d7921/params/ (stored 0%)\n",
            "  adding: mlruns/0/models/m-1ccbfcddc3ee4cf0a275d8da3e1d7921/params/max_depth (stored 0%)\n",
            "  adding: mlruns/0/models/m-1ccbfcddc3ee4cf0a275d8da3e1d7921/params/n_estimators (stored 0%)\n",
            "  adding: mlruns/0/models/m-1ccbfcddc3ee4cf0a275d8da3e1d7921/metrics/ (stored 0%)\n",
            "  adding: mlruns/0/models/m-1ccbfcddc3ee4cf0a275d8da3e1d7921/metrics/r2 (deflated 13%)\n",
            "  adding: mlruns/0/models/m-1ccbfcddc3ee4cf0a275d8da3e1d7921/metrics/mae (deflated 13%)\n",
            "  adding: mlruns/0/models/m-1ccbfcddc3ee4cf0a275d8da3e1d7921/metrics/rmse (deflated 15%)\n",
            "  adding: mlruns/0/models/m-1ccbfcddc3ee4cf0a275d8da3e1d7921/meta.yaml (deflated 39%)\n",
            "  adding: mlruns/0/models/m-1ccbfcddc3ee4cf0a275d8da3e1d7921/tags/ (stored 0%)\n",
            "  adding: mlruns/0/models/m-1ccbfcddc3ee4cf0a275d8da3e1d7921/tags/mlflow.user (stored 0%)\n",
            "  adding: mlruns/0/models/m-1ccbfcddc3ee4cf0a275d8da3e1d7921/tags/mlflow.source.type (stored 0%)\n",
            "  adding: mlruns/0/models/m-1ccbfcddc3ee4cf0a275d8da3e1d7921/tags/mlflow.source.name (deflated 5%)\n",
            "  adding: mlruns/0/models/m-aef270c2c68440e2b76d6c3b4f8dbee3/ (stored 0%)\n",
            "  adding: mlruns/0/models/m-aef270c2c68440e2b76d6c3b4f8dbee3/artifacts/ (stored 0%)\n",
            "  adding: mlruns/0/models/m-aef270c2c68440e2b76d6c3b4f8dbee3/artifacts/input_example.json (deflated 32%)\n",
            "  adding: mlruns/0/models/m-aef270c2c68440e2b76d6c3b4f8dbee3/artifacts/MLmodel (deflated 52%)\n",
            "  adding: mlruns/0/models/m-aef270c2c68440e2b76d6c3b4f8dbee3/artifacts/model.pkl (deflated 80%)\n",
            "  adding: mlruns/0/models/m-aef270c2c68440e2b76d6c3b4f8dbee3/artifacts/requirements.txt (deflated 20%)\n",
            "  adding: mlruns/0/models/m-aef270c2c68440e2b76d6c3b4f8dbee3/artifacts/conda.yaml (deflated 34%)\n",
            "  adding: mlruns/0/models/m-aef270c2c68440e2b76d6c3b4f8dbee3/artifacts/python_env.yaml (deflated 16%)\n",
            "  adding: mlruns/0/models/m-aef270c2c68440e2b76d6c3b4f8dbee3/artifacts/serving_input_example.json (deflated 51%)\n",
            "  adding: mlruns/0/models/m-aef270c2c68440e2b76d6c3b4f8dbee3/params/ (stored 0%)\n",
            "  adding: mlruns/0/models/m-aef270c2c68440e2b76d6c3b4f8dbee3/params/max_depth (stored 0%)\n",
            "  adding: mlruns/0/models/m-aef270c2c68440e2b76d6c3b4f8dbee3/params/n_estimators (stored 0%)\n",
            "  adding: mlruns/0/models/m-aef270c2c68440e2b76d6c3b4f8dbee3/metrics/ (stored 0%)\n",
            "  adding: mlruns/0/models/m-aef270c2c68440e2b76d6c3b4f8dbee3/metrics/r2 (deflated 15%)\n",
            "  adding: mlruns/0/models/m-aef270c2c68440e2b76d6c3b4f8dbee3/metrics/mae (deflated 13%)\n",
            "  adding: mlruns/0/models/m-aef270c2c68440e2b76d6c3b4f8dbee3/metrics/rmse (deflated 13%)\n",
            "  adding: mlruns/0/models/m-aef270c2c68440e2b76d6c3b4f8dbee3/meta.yaml (deflated 39%)\n",
            "  adding: mlruns/0/models/m-aef270c2c68440e2b76d6c3b4f8dbee3/tags/ (stored 0%)\n",
            "  adding: mlruns/0/models/m-aef270c2c68440e2b76d6c3b4f8dbee3/tags/mlflow.user (stored 0%)\n",
            "  adding: mlruns/0/models/m-aef270c2c68440e2b76d6c3b4f8dbee3/tags/mlflow.source.type (stored 0%)\n",
            "  adding: mlruns/0/models/m-aef270c2c68440e2b76d6c3b4f8dbee3/tags/mlflow.source.name (deflated 5%)\n",
            "  adding: mlruns/0/meta.yaml (deflated 25%)\n",
            "  adding: mlruns/0/99ec376a89564dfdb40a69dad1b74b50/ (stored 0%)\n",
            "  adding: mlruns/0/99ec376a89564dfdb40a69dad1b74b50/artifacts/ (stored 0%)\n",
            "  adding: mlruns/0/99ec376a89564dfdb40a69dad1b74b50/artifacts/housing_snapshot.csv (deflated 71%)\n",
            "  adding: mlruns/0/99ec376a89564dfdb40a69dad1b74b50/params/ (stored 0%)\n",
            "  adding: mlruns/0/99ec376a89564dfdb40a69dad1b74b50/metrics/ (stored 0%)\n",
            "  adding: mlruns/0/99ec376a89564dfdb40a69dad1b74b50/meta.yaml (deflated 38%)\n",
            "  adding: mlruns/0/99ec376a89564dfdb40a69dad1b74b50/tags/ (stored 0%)\n",
            "  adding: mlruns/0/99ec376a89564dfdb40a69dad1b74b50/tags/mlflow.runName (stored 0%)\n",
            "  adding: mlruns/0/99ec376a89564dfdb40a69dad1b74b50/tags/mlflow.user (stored 0%)\n",
            "  adding: mlruns/0/99ec376a89564dfdb40a69dad1b74b50/tags/mlflow.source.type (stored 0%)\n",
            "  adding: mlruns/0/99ec376a89564dfdb40a69dad1b74b50/tags/mlflow.source.name (deflated 5%)\n",
            "  adding: mlruns/0/99ec376a89564dfdb40a69dad1b74b50/tags/data_hash (deflated 17%)\n",
            "  adding: mlruns/0/c20608ebf20b450caa23e5313f8a1335/ (stored 0%)\n",
            "  adding: mlruns/0/c20608ebf20b450caa23e5313f8a1335/artifacts/ (stored 0%)\n",
            "  adding: mlruns/0/c20608ebf20b450caa23e5313f8a1335/artifacts/pipeline.pkl (deflated 50%)\n",
            "  adding: mlruns/0/c20608ebf20b450caa23e5313f8a1335/params/ (stored 0%)\n",
            "  adding: mlruns/0/c20608ebf20b450caa23e5313f8a1335/params/learning_rate (stored 0%)\n",
            "  adding: mlruns/0/c20608ebf20b450caa23e5313f8a1335/params/max_depth (stored 0%)\n",
            "  adding: mlruns/0/c20608ebf20b450caa23e5313f8a1335/params/n_estimators (stored 0%)\n",
            "  adding: mlruns/0/c20608ebf20b450caa23e5313f8a1335/metrics/ (stored 0%)\n",
            "  adding: mlruns/0/c20608ebf20b450caa23e5313f8a1335/metrics/r2 (deflated 44%)\n",
            "  adding: mlruns/0/c20608ebf20b450caa23e5313f8a1335/metrics/mae (deflated 43%)\n",
            "  adding: mlruns/0/c20608ebf20b450caa23e5313f8a1335/metrics/rmse (deflated 43%)\n",
            "  adding: mlruns/0/c20608ebf20b450caa23e5313f8a1335/outputs/ (stored 0%)\n",
            "  adding: mlruns/0/c20608ebf20b450caa23e5313f8a1335/outputs/m-10b9f1b952f84d168426b0e8d184463d/ (stored 0%)\n",
            "  adding: mlruns/0/c20608ebf20b450caa23e5313f8a1335/outputs/m-10b9f1b952f84d168426b0e8d184463d/meta.yaml (deflated 36%)\n",
            "  adding: mlruns/0/c20608ebf20b450caa23e5313f8a1335/meta.yaml (deflated 39%)\n",
            "  adding: mlruns/0/c20608ebf20b450caa23e5313f8a1335/tags/ (stored 0%)\n",
            "  adding: mlruns/0/c20608ebf20b450caa23e5313f8a1335/tags/mlflow.runName (stored 0%)\n",
            "  adding: mlruns/0/c20608ebf20b450caa23e5313f8a1335/tags/mlflow.user (stored 0%)\n",
            "  adding: mlruns/0/c20608ebf20b450caa23e5313f8a1335/tags/mlflow.source.type (stored 0%)\n",
            "  adding: mlruns/0/c20608ebf20b450caa23e5313f8a1335/tags/mlflow.source.name (deflated 5%)\n",
            "  adding: mlruns/0/c20608ebf20b450caa23e5313f8a1335/tags/data_hash (deflated 17%)\n",
            "  adding: mlruns/0/c20608ebf20b450caa23e5313f8a1335/tags/dataset_version (stored 0%)\n",
            "  adding: mlruns/0/c20608ebf20b450caa23e5313f8a1335/tags/feature_types (deflated 62%)\n",
            "  adding: mlruns/0/c20608ebf20b450caa23e5313f8a1335/tags/model_type (stored 0%)\n",
            "  adding: mlruns/0/183c405aaaa5448fa086b27a70c9f781/ (stored 0%)\n",
            "  adding: mlruns/0/183c405aaaa5448fa086b27a70c9f781/artifacts/ (stored 0%)\n",
            "  adding: mlruns/0/183c405aaaa5448fa086b27a70c9f781/artifacts/pipeline.pkl (deflated 50%)\n",
            "  adding: mlruns/0/183c405aaaa5448fa086b27a70c9f781/params/ (stored 0%)\n",
            "  adding: mlruns/0/183c405aaaa5448fa086b27a70c9f781/params/max_depth (stored 0%)\n",
            "  adding: mlruns/0/183c405aaaa5448fa086b27a70c9f781/params/n_estimators (stored 0%)\n",
            "  adding: mlruns/0/183c405aaaa5448fa086b27a70c9f781/metrics/ (stored 0%)\n",
            "  adding: mlruns/0/183c405aaaa5448fa086b27a70c9f781/metrics/r2 (deflated 43%)\n",
            "  adding: mlruns/0/183c405aaaa5448fa086b27a70c9f781/metrics/mae (deflated 43%)\n",
            "  adding: mlruns/0/183c405aaaa5448fa086b27a70c9f781/metrics/rmse (deflated 44%)\n",
            "  adding: mlruns/0/183c405aaaa5448fa086b27a70c9f781/outputs/ (stored 0%)\n",
            "  adding: mlruns/0/183c405aaaa5448fa086b27a70c9f781/outputs/m-aef270c2c68440e2b76d6c3b4f8dbee3/ (stored 0%)\n",
            "  adding: mlruns/0/183c405aaaa5448fa086b27a70c9f781/outputs/m-aef270c2c68440e2b76d6c3b4f8dbee3/meta.yaml (deflated 36%)\n",
            "  adding: mlruns/0/183c405aaaa5448fa086b27a70c9f781/meta.yaml (deflated 39%)\n",
            "  adding: mlruns/0/183c405aaaa5448fa086b27a70c9f781/tags/ (stored 0%)\n",
            "  adding: mlruns/0/183c405aaaa5448fa086b27a70c9f781/tags/mlflow.runName (stored 0%)\n",
            "  adding: mlruns/0/183c405aaaa5448fa086b27a70c9f781/tags/mlflow.user (stored 0%)\n",
            "  adding: mlruns/0/183c405aaaa5448fa086b27a70c9f781/tags/mlflow.source.type (stored 0%)\n",
            "  adding: mlruns/0/183c405aaaa5448fa086b27a70c9f781/tags/mlflow.source.name (deflated 5%)\n",
            "  adding: mlruns/0/183c405aaaa5448fa086b27a70c9f781/tags/data_hash (deflated 17%)\n",
            "  adding: mlruns/0/183c405aaaa5448fa086b27a70c9f781/tags/dataset_version (stored 0%)\n",
            "  adding: mlruns/0/183c405aaaa5448fa086b27a70c9f781/tags/feature_types (deflated 62%)\n",
            "  adding: mlruns/0/183c405aaaa5448fa086b27a70c9f781/tags/model_type (stored 0%)\n",
            "  adding: mlruns/0/1cc95f1243d74a9198596aa543a95a0c/ (stored 0%)\n",
            "  adding: mlruns/0/1cc95f1243d74a9198596aa543a95a0c/artifacts/ (stored 0%)\n",
            "  adding: mlruns/0/1cc95f1243d74a9198596aa543a95a0c/artifacts/pipeline.pkl (deflated 50%)\n",
            "  adding: mlruns/0/1cc95f1243d74a9198596aa543a95a0c/params/ (stored 0%)\n",
            "  adding: mlruns/0/1cc95f1243d74a9198596aa543a95a0c/params/learning_rate (stored 0%)\n",
            "  adding: mlruns/0/1cc95f1243d74a9198596aa543a95a0c/params/max_depth (stored 0%)\n",
            "  adding: mlruns/0/1cc95f1243d74a9198596aa543a95a0c/params/n_estimators (stored 0%)\n",
            "  adding: mlruns/0/1cc95f1243d74a9198596aa543a95a0c/metrics/ (stored 0%)\n",
            "  adding: mlruns/0/1cc95f1243d74a9198596aa543a95a0c/metrics/r2 (deflated 43%)\n",
            "  adding: mlruns/0/1cc95f1243d74a9198596aa543a95a0c/metrics/mae (deflated 43%)\n",
            "  adding: mlruns/0/1cc95f1243d74a9198596aa543a95a0c/metrics/rmse (deflated 43%)\n",
            "  adding: mlruns/0/1cc95f1243d74a9198596aa543a95a0c/outputs/ (stored 0%)\n",
            "  adding: mlruns/0/1cc95f1243d74a9198596aa543a95a0c/outputs/m-8a9ef31033064382808abd80226589cf/ (stored 0%)\n",
            "  adding: mlruns/0/1cc95f1243d74a9198596aa543a95a0c/outputs/m-8a9ef31033064382808abd80226589cf/meta.yaml (deflated 36%)\n",
            "  adding: mlruns/0/1cc95f1243d74a9198596aa543a95a0c/meta.yaml (deflated 39%)\n",
            "  adding: mlruns/0/1cc95f1243d74a9198596aa543a95a0c/tags/ (stored 0%)\n",
            "  adding: mlruns/0/1cc95f1243d74a9198596aa543a95a0c/tags/mlflow.runName (stored 0%)\n",
            "  adding: mlruns/0/1cc95f1243d74a9198596aa543a95a0c/tags/mlflow.user (stored 0%)\n",
            "  adding: mlruns/0/1cc95f1243d74a9198596aa543a95a0c/tags/mlflow.source.type (stored 0%)\n",
            "  adding: mlruns/0/1cc95f1243d74a9198596aa543a95a0c/tags/mlflow.source.name (deflated 5%)\n",
            "  adding: mlruns/0/1cc95f1243d74a9198596aa543a95a0c/tags/data_hash (deflated 17%)\n",
            "  adding: mlruns/0/1cc95f1243d74a9198596aa543a95a0c/tags/dataset_version (stored 0%)\n",
            "  adding: mlruns/0/1cc95f1243d74a9198596aa543a95a0c/tags/feature_types (deflated 62%)\n",
            "  adding: mlruns/0/1cc95f1243d74a9198596aa543a95a0c/tags/model_type (stored 0%)\n",
            "  adding: mlruns/.trash/ (stored 0%)\n"
          ]
        },
        {
          "output_type": "display_data",
          "data": {
            "text/plain": [
              "<IPython.core.display.Javascript object>"
            ],
            "application/javascript": [
              "\n",
              "    async function download(id, filename, size) {\n",
              "      if (!google.colab.kernel.accessAllowed) {\n",
              "        return;\n",
              "      }\n",
              "      const div = document.createElement('div');\n",
              "      const label = document.createElement('label');\n",
              "      label.textContent = `Downloading \"${filename}\": `;\n",
              "      div.appendChild(label);\n",
              "      const progress = document.createElement('progress');\n",
              "      progress.max = size;\n",
              "      div.appendChild(progress);\n",
              "      document.body.appendChild(div);\n",
              "\n",
              "      const buffers = [];\n",
              "      let downloaded = 0;\n",
              "\n",
              "      const channel = await google.colab.kernel.comms.open(id);\n",
              "      // Send a message to notify the kernel that we're ready.\n",
              "      channel.send({})\n",
              "\n",
              "      for await (const message of channel.messages) {\n",
              "        // Send a message to notify the kernel that we're ready.\n",
              "        channel.send({})\n",
              "        if (message.buffers) {\n",
              "          for (const buffer of message.buffers) {\n",
              "            buffers.push(buffer);\n",
              "            downloaded += buffer.byteLength;\n",
              "            progress.value = downloaded;\n",
              "          }\n",
              "        }\n",
              "      }\n",
              "      const blob = new Blob(buffers, {type: 'application/binary'});\n",
              "      const a = document.createElement('a');\n",
              "      a.href = window.URL.createObjectURL(blob);\n",
              "      a.download = filename;\n",
              "      div.appendChild(a);\n",
              "      a.click();\n",
              "      div.remove();\n",
              "    }\n",
              "  "
            ]
          },
          "metadata": {}
        },
        {
          "output_type": "display_data",
          "data": {
            "text/plain": [
              "<IPython.core.display.Javascript object>"
            ],
            "application/javascript": [
              "download(\"download_a8237cda-ce4b-41ad-8b7e-07e905c27a9f\", \"mlruns.zip\", 58455567)"
            ]
          },
          "metadata": {}
        }
      ]
    }
  ]
}